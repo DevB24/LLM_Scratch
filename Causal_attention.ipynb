{
 "cells": [
  {
   "cell_type": "code",
   "execution_count": 1,
   "metadata": {},
   "outputs": [],
   "source": [
    "import torch\n",
    "import torch.nn as nn"
   ]
  },
  {
   "cell_type": "code",
   "execution_count": 15,
   "metadata": {},
   "outputs": [],
   "source": [
    "class MultiheadCausalAttention(nn.Module):\n",
    "    def __init__(self, d_in, d_out, context_length, dropout,n_heads,qkv_bias=False):\n",
    "        super().__init__()\n",
    "            \n",
    "        assert (d_out % n_heads == 0), \\\n",
    "    \"d_out must be divisible by num_heads\"\n",
    "        self.d_out = d_out\n",
    "        self.num_heads = n_heads\n",
    "        # self.head_dim = d_out // num_heads \n",
    "        self.head_dim = d_out // n_heads\n",
    "        self.dropout = nn.Dropout(dropout)\n",
    "        self.query_w = nn.Linear(d_in, d_out, bias=qkv_bias)\n",
    "        self.key_w = nn.Linear(d_in, d_out, bias=qkv_bias)\n",
    "        self.value_w = nn.Linear(d_in, d_out, bias=qkv_bias)\n",
    "        self.out_proj = nn.Linear(d_out, d_out)\n",
    "        self.register_buffer('mask', torch.triu(torch.ones(context_length, context_length), diagonal=1))\n",
    "        \n",
    "        \n",
    "    def forward(self,x):\n",
    "       b ,num_tokens, d_in= x.shape\n",
    "       \n",
    "       query = self.query_w(x).view(b, num_tokens, self.num_heads, self.head_dim)\n",
    "       key = self.key_w(x).view(b, num_tokens, self.num_heads, self.head_dim)\n",
    "       value = self.value_w(x).view(b, num_tokens, self.num_heads, self.head_dim)\n",
    "        # Transpose: (b, num_tokens, num_heads, head_dim) -> (b, num_heads, num_tokens, head_dim)\n",
    "       key = key.transpose(1, 2)\n",
    "       query = query.transpose(1, 2)\n",
    "       value = value.transpose(1, 2)\n",
    "       \n",
    "       \n",
    "       attn_scores = query @ key.transpose(2, 3)  # Dot product for each head\n",
    "       \n",
    "       \n",
    "       mask_bool = self.mask[:num_tokens, :num_tokens].bool()\n",
    "       attn_scores.masked_fill_(mask_bool, -torch.inf)\n",
    "       attent_weights = torch.softmax(attn_scores/key.shape[-1] ** 0.5 , dim=-1)\n",
    "       \n",
    "       attent_weights = self.dropout(attent_weights)\n",
    "       \n",
    "       context_vec = (attent_weights @ value).transpose(1, 2) \n",
    "       \n",
    "       context_vec = context_vec.contiguous().view(b, num_tokens, self.d_out)\n",
    "       \n",
    "       context_vec = self.out_proj(context_vec)\n",
    "       return context_vec\n",
    "       \n",
    "       "
   ]
  },
  {
   "cell_type": "code",
   "execution_count": 30,
   "metadata": {},
   "outputs": [
    {
     "name": "stdout",
     "output_type": "stream",
     "text": [
      "torch.Size([2, 3, 12])\n"
     ]
    }
   ],
   "source": [
    "inputs = torch.tensor(\n",
    "    [[0.43, 0.15, 0.89, 0.55, 0.87, 0.66,0.57, 0.85, 0.64, 0.22, 0.58, 0.33],  # Row 1\n",
    "     [0.57, 0.85, 0.64, 0.22, 0.58, 0.33,0.77, 0.25, 0.10, 0.05, 0.80, 0.55],  # Row 2\n",
    "     [0.77, 0.25, 0.10, 0.05, 0.80, 0.55,0.57, 0.85, 0.64, 0.22, 0.58, 0.33]]  # Row 3\n",
    ")\n",
    "\n",
    "batch = torch.stack((inputs,inputs), dim=0)\n",
    "print(batch.shape)\n",
    "batch_size, context_length ,din= batch.shape\n",
    "dout = din\n",
    "mul_cls = MultiheadCausalAttention(din,dout,context_length,0.0,12)\n"
   ]
  },
  {
   "cell_type": "code",
   "execution_count": 31,
   "metadata": {},
   "outputs": [
    {
     "data": {
      "text/plain": [
       "tensor([[[0.4300, 0.1500, 0.8900, 0.5500, 0.8700, 0.6600, 0.5700, 0.8500,\n",
       "          0.6400, 0.2200, 0.5800, 0.3300],\n",
       "         [0.5700, 0.8500, 0.6400, 0.2200, 0.5800, 0.3300, 0.7700, 0.2500,\n",
       "          0.1000, 0.0500, 0.8000, 0.5500],\n",
       "         [0.7700, 0.2500, 0.1000, 0.0500, 0.8000, 0.5500, 0.5700, 0.8500,\n",
       "          0.6400, 0.2200, 0.5800, 0.3300]],\n",
       "\n",
       "        [[0.4300, 0.1500, 0.8900, 0.5500, 0.8700, 0.6600, 0.5700, 0.8500,\n",
       "          0.6400, 0.2200, 0.5800, 0.3300],\n",
       "         [0.5700, 0.8500, 0.6400, 0.2200, 0.5800, 0.3300, 0.7700, 0.2500,\n",
       "          0.1000, 0.0500, 0.8000, 0.5500],\n",
       "         [0.7700, 0.2500, 0.1000, 0.0500, 0.8000, 0.5500, 0.5700, 0.8500,\n",
       "          0.6400, 0.2200, 0.5800, 0.3300]]])"
      ]
     },
     "execution_count": 31,
     "metadata": {},
     "output_type": "execute_result"
    }
   ],
   "source": [
    "batch"
   ]
  },
  {
   "cell_type": "code",
   "execution_count": 32,
   "metadata": {},
   "outputs": [
    {
     "data": {
      "text/plain": [
       "tensor([[[ 2.7085e-01, -7.0683e-02,  1.9019e-02,  2.1527e-01,  1.4085e-01,\n",
       "          -2.3308e-01,  5.1715e-01, -1.5791e-01, -4.4830e-02,  3.2062e-01,\n",
       "          -5.2556e-01,  1.9533e-01],\n",
       "         [ 2.6795e-01, -8.3251e-02,  3.5241e-05,  2.1007e-01,  1.0036e-01,\n",
       "          -3.0398e-01,  4.4630e-01, -3.0354e-01, -1.0211e-01,  3.5549e-01,\n",
       "          -5.4674e-01,  2.8070e-01],\n",
       "         [ 2.8022e-01, -7.2653e-02, -2.0956e-02,  1.8526e-01,  9.9690e-02,\n",
       "          -2.8955e-01,  4.2378e-01, -3.2395e-01, -5.1590e-02,  3.7418e-01,\n",
       "          -4.8803e-01,  2.4294e-01]],\n",
       "\n",
       "        [[ 2.7085e-01, -7.0683e-02,  1.9019e-02,  2.1527e-01,  1.4085e-01,\n",
       "          -2.3308e-01,  5.1715e-01, -1.5791e-01, -4.4830e-02,  3.2062e-01,\n",
       "          -5.2556e-01,  1.9533e-01],\n",
       "         [ 2.6795e-01, -8.3251e-02,  3.5241e-05,  2.1007e-01,  1.0036e-01,\n",
       "          -3.0398e-01,  4.4630e-01, -3.0354e-01, -1.0211e-01,  3.5549e-01,\n",
       "          -5.4674e-01,  2.8070e-01],\n",
       "         [ 2.8022e-01, -7.2653e-02, -2.0956e-02,  1.8526e-01,  9.9690e-02,\n",
       "          -2.8955e-01,  4.2378e-01, -3.2395e-01, -5.1590e-02,  3.7418e-01,\n",
       "          -4.8803e-01,  2.4294e-01]]], grad_fn=<ViewBackward0>)"
      ]
     },
     "execution_count": 32,
     "metadata": {},
     "output_type": "execute_result"
    }
   ],
   "source": [
    "mul_cls(batch)"
   ]
  },
  {
   "cell_type": "code",
   "execution_count": 28,
   "metadata": {},
   "outputs": [
    {
     "name": "stdout",
     "output_type": "stream",
     "text": [
      "36\n",
      "36\n",
      "36\n",
      "36\n",
      "6\n",
      "feff 150\n"
     ]
    }
   ],
   "source": [
    "ok = 0\n",
    "for p in mul_cls.parameters():\n",
    "    if p.requires_grad == False:\n",
    "        ok = ok+ p.numel()\n",
    "        print(p.numel())\n",
    "print('feff',ok)"
   ]
  },
  {
   "cell_type": "code",
   "execution_count": null,
   "metadata": {},
   "outputs": [],
   "source": []
  }
 ],
 "metadata": {
  "kernelspec": {
   "display_name": "Python 3",
   "language": "python",
   "name": "python3"
  },
  "language_info": {
   "codemirror_mode": {
    "name": "ipython",
    "version": 3
   },
   "file_extension": ".py",
   "mimetype": "text/x-python",
   "name": "python",
   "nbconvert_exporter": "python",
   "pygments_lexer": "ipython3",
   "version": "3.10.16"
  }
 },
 "nbformat": 4,
 "nbformat_minor": 2
}

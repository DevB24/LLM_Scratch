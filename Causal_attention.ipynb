{
 "cells": [
  {
   "cell_type": "code",
   "execution_count": 1,
   "metadata": {},
   "outputs": [],
   "source": [
    "import torch\n",
    "import torch.nn as nn"
   ]
  },
  {
   "cell_type": "code",
   "execution_count": null,
   "metadata": {},
   "outputs": [],
   "source": [
    "class MultiheadCausalAttention(nn.Module):\n",
    "    super().__init__()\n",
    "    def __init__(self, d_in, d_out, context_length, dropout,n_heads,qkv_bias=False):\n",
    "        assert (d_out % n_heads == 0), \\\n",
    "    \"d_out must be divisible by num_heads\"\n",
    "        self.d_out = d_out\n",
    "        self.num_heads = n_heads\n",
    "        # self.head_dim = d_out // num_heads \n",
    "        self.head_dim = d_out // n_heads\n",
    "        \n",
    "        self.query_w = torch.nn.linear(d_in, d_out, bias=qkv_bias)\n",
    "        self.key_w = torch.nn.linear(d_in, d_out, bias=qkv_bias)\n",
    "        self.value_w = torch.nn.linear(d_in, d_out, bias=qkv_bias)\n",
    "        \n",
    "        self.register_buffer('mask', torch.trilu(torch.ones(context_length, context_length), diagonal=1))"
   ]
  }
 ],
 "metadata": {
  "kernelspec": {
   "display_name": "Python 3",
   "language": "python",
   "name": "python3"
  },
  "language_info": {
   "codemirror_mode": {
    "name": "ipython",
    "version": 3
   },
   "file_extension": ".py",
   "mimetype": "text/x-python",
   "name": "python",
   "nbconvert_exporter": "python",
   "pygments_lexer": "ipython3",
   "version": "3.10.16"
  }
 },
 "nbformat": 4,
 "nbformat_minor": 2
}
